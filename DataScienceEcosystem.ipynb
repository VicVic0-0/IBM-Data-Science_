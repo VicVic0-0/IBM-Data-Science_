{
  "metadata": {
    "kernelspec": {
      "name": "python",
      "display_name": "Python (Pyodide)",
      "language": "python"
    },
    "language_info": {
      "codemirror_mode": {
        "name": "python",
        "version": 3
      },
      "file_extension": ".py",
      "mimetype": "text/x-python",
      "name": "python",
      "nbconvert_exporter": "python",
      "pygments_lexer": "ipython3",
      "version": "3.8"
    }
  },
  "nbformat_minor": 4,
  "nbformat": 4,
  "cells": [
    {
      "cell_type": "markdown",
      "source": "# Data Science Tools and Ecosystem",
      "metadata": {}
    },
    {
      "cell_type": "markdown",
      "source": "# In this notebook, Data Science Tools and Ecosystem are summarized.",
      "metadata": {}
    },
    {
      "cell_type": "markdown",
      "source": "# Some of the popular languages that Data Scientists use are: R Python Julia",
      "metadata": {}
    },
    {
      "cell_type": "markdown",
      "source": "# Some of the commonly used libraries used by Data Scientists include: NumPy Pandas TensorFlow",
      "metadata": {}
    },
    {
      "cell_type": "markdown",
      "source": "# Data Science Tools: Jupyter Notebook PyTorch Apache Hadoop",
      "metadata": {}
    },
    {
      "cell_type": "markdown",
      "source": "# An example of evaluating arithmetic expressions in Python: 1+5=6",
      "metadata": {}
    },
    {
      "cell_type": "code",
      "source": "(2+5)*6",
      "metadata": {
        "trusted": true
      },
      "outputs": [],
      "execution_count": null
    },
    {
      "cell_type": "code",
      "source": "200 minutes = 200/60 hours",
      "metadata": {
        "trusted": true
      },
      "outputs": [],
      "execution_count": 7
    },
    {
      "cell_type": "markdown",
      "source": "# To learn about data science",
      "metadata": {}
    },
    {
      "cell_type": "markdown",
      "source": "# Author's name",
      "metadata": {}
    }
  ]
}